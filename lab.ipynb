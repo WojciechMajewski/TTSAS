{
 "cells": [
  {
   "cell_type": "code",
   "execution_count": 276,
   "metadata": {},
   "outputs": [],
   "source": [
    "import os\n",
    "import json\n",
    "import re\n",
    "import urllib.request"
   ]
  },
  {
   "cell_type": "code",
   "execution_count": 277,
   "metadata": {},
   "outputs": [],
   "source": [
    "def uniquify(path):\n",
    "    filename, extension = os.path.splitext(path)\n",
    "    counter = 1\n",
    "\n",
    "    while os.path.exists(path):\n",
    "        path = filename + \" (\" + str(counter) + \")\" + extension\n",
    "        counter += 1\n",
    "\n",
    "    return path"
   ]
  },
  {
   "cell_type": "code",
   "execution_count": 278,
   "metadata": {},
   "outputs": [],
   "source": [
    "with open(\"config.txt\") as f:\n",
    "    config_data = f.read()\n",
    "\n",
    "workshop_dir = re.findall(r'workshop_dir\\s*=\\s*(.+)', config_data)[0]\n",
    "\n",
    "key_phrase = re.findall(r'key_phrase\\s*=\\s*(.+)', config_data)[0]\n",
    "\n",
    "retrieve_pdf = re.findall(r'retrieve_pdf\\s*=\\s*(.+)', config_data)[0]\n",
    "if retrieve_pdf.lower() == \"yes\" or retrieve_pdf.lower() == \"y\" or retrieve_pdf.lower() == \"true\":\n",
    "    retrieve_pdf = True\n",
    "else:\n",
    "    retrieve_pdf = False\n",
    "\n",
    "retrieve_image = re.findall(r'retrieve_images?\\s*=\\s*(.+)', config_data)[0]\n",
    "if retrieve_image.lower() == \"yes\" or retrieve_image.lower() == \"y\" or retrieve_image.lower() == \"true\":\n",
    "    retrieve_image = True\n",
    "else:\n",
    "    retrieve_image = False"
   ]
  },
  {
   "cell_type": "code",
   "execution_count": 279,
   "metadata": {},
   "outputs": [
    {
     "name": "stdout",
     "output_type": "stream",
     "text": [
      "Root + Expansions (ENG/ITA)\n",
      "2213350227.json\n"
     ]
    }
   ],
   "source": [
    "f = []\n",
    "for (dirpath, dirnames, filenames) in os.walk(workshop_dir):\n",
    "    f.extend(filenames)\n",
    "    break\n",
    "\n",
    "jsons = [i for i in f if i[-5:] == \".json\" and i != \"WorkshopFileInfos.json\"]\n",
    "\n",
    "\n",
    "mod_numerical_name = \"none\"\n",
    "\n",
    "for json_file in jsons:\n",
    "    # Opening JSON file\n",
    "    f = open(os.path.join(workshop_dir, json_file), encoding=\"UTF-8\")\n",
    "    \n",
    "    # returns JSON object as \n",
    "    # a dictionary\n",
    "    data = json.load(f)\n",
    "\n",
    "    # Closing file\n",
    "    f.close()\n",
    "    \n",
    "\n",
    "    if key_phrase in data['GameMode']:\n",
    "        game_name = data['GameMode']\n",
    "        print(game_name)\n",
    "        mod_numerical_name = json_file\n",
    "        print(json_file)\n",
    "    "
   ]
  },
  {
   "cell_type": "code",
   "execution_count": 280,
   "metadata": {},
   "outputs": [],
   "source": [
    "assert mod_numerical_name != \"none\""
   ]
  },
  {
   "cell_type": "code",
   "execution_count": 281,
   "metadata": {},
   "outputs": [],
   "source": [
    "image_links = []\n",
    "pdf_links = []\n",
    "known_links = set()\n",
    "\n",
    "### Read whole as string and regex find all urls/ImageURL\n",
    "with open(os.path.join(workshop_dir, mod_numerical_name), encoding=\"UTF-8\") as f:\n",
    "    file_text = f.read()\n",
    "\n",
    "lines = file_text.split(\"\\n\")\n",
    "\n",
    "if retrieve_image:\n",
    "    for index, row in enumerate(lines):\n",
    "        link = re.findall(r'\\s+\"ImageURL\":\\s*\"(.+)\"', row)\n",
    "        if len(link) != 1:\n",
    "            continue\n",
    "        if link[0] in known_links:\n",
    "            continue\n",
    "        else:\n",
    "            known_links.add(link[0])\n",
    "        \n",
    "        for i in range(index, 0, -1):\n",
    "            name = re.findall(r'\\s+\"(Name|Nickname|GUID)\":\\s+\"(.+)\"', lines[i])\n",
    "            if len(name) != 1 or len(name[0]) != 2:\n",
    "                continue\n",
    "            image_links += [(name[0][1], link[0])]\n",
    "            break\n",
    "\n",
    "if retrieve_pdf:\n",
    "    for index, row in enumerate(lines):\n",
    "        link = re.findall(r'\\s+\"PDFUrl\":\\s*\"(.+)\"', row)\n",
    "        if len(link) != 1:\n",
    "            continue\n",
    "        if link[0] in known_links:\n",
    "            continue\n",
    "        else:\n",
    "            known_links.add(link[0])\n",
    "        \n",
    "        for i in range(index, 0, -1):\n",
    "            name = re.findall(r'\\s+\"(Name|Nickname|GUID)\":\\s+\"(.+)\"', lines[i])\n",
    "            if len(name) != 1 or len(name[0]) != 2:\n",
    "                continue\n",
    "            pdf_links += [(name[0][1], link[0])]\n",
    "            break\n"
   ]
  },
  {
   "cell_type": "code",
   "execution_count": 282,
   "metadata": {},
   "outputs": [],
   "source": [
    "# Directory \n",
    "directory = game_name.lower()\n",
    "directory = ''.join(c for c in directory if c.isalnum() or c == \" \")\n",
    "directory = directory.replace(\" \", \"_\")\n",
    "directory += \"_ASSETS\"\n",
    "  \n",
    "# Current directory\n",
    "current_dir = os.getcwd()\n",
    "  \n",
    "# Path \n",
    "asset_dir_path = os.path.join(current_dir, \"Exported\", directory) "
   ]
  },
  {
   "cell_type": "code",
   "execution_count": 285,
   "metadata": {},
   "outputs": [
    {
     "name": "stdout",
     "output_type": "stream",
     "text": [
      "[WinError 183] Cannot create a file when that file already exists: 'c:\\\\Users\\\\wojci\\\\Documents\\\\GitHub\\\\TTSAS\\\\Exported'\n",
      "[WinError 183] Cannot create a file when that file already exists: 'c:\\\\Users\\\\wojci\\\\Documents\\\\GitHub\\\\TTSAS\\\\Exported\\\\root__expansions_engita_ASSETS'\n"
     ]
    }
   ],
   "source": [
    "try:  \n",
    "    os.mkdir(os.path.join(current_dir, \"Exported\"))\n",
    "except OSError as error:  \n",
    "    print(error)\n",
    "\n",
    "try:  \n",
    "    os.mkdir(asset_dir_path)\n",
    "except OSError as error:  \n",
    "    print(error)"
   ]
  },
  {
   "cell_type": "code",
   "execution_count": 284,
   "metadata": {},
   "outputs": [],
   "source": [
    "for asset in image_links:\n",
    "    name = asset[0]\n",
    "    name = ''.join(c for c in name if c.isalnum() or c == \" \")\n",
    "    link = asset[1]\n",
    "    path = uniquify(os.path.join(asset_dir_path, name + \".jpg\"))\n",
    "    urllib.request.urlretrieve(link, path)\n",
    "\n",
    "for asset in pdf_links:\n",
    "    name = asset[0]\n",
    "    name = ''.join(c for c in name if c.isalnum() or c == \" \")\n",
    "    link = asset[1]\n",
    "    path = uniquify(os.path.join(asset_dir_path, name + \".pdf\"))\n",
    "    urllib.request.urlretrieve(link, path)\n",
    "    "
   ]
  }
 ],
 "metadata": {
  "kernelspec": {
   "display_name": "Python 3",
   "language": "python",
   "name": "python3"
  },
  "language_info": {
   "codemirror_mode": {
    "name": "ipython",
    "version": 3
   },
   "file_extension": ".py",
   "mimetype": "text/x-python",
   "name": "python",
   "nbconvert_exporter": "python",
   "pygments_lexer": "ipython3",
   "version": "3.11.3"
  }
 },
 "nbformat": 4,
 "nbformat_minor": 2
}
